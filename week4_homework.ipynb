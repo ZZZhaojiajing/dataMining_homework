{
 "cells": [
  {
   "cell_type": "code",
   "execution_count": 3,
   "metadata": {},
   "outputs": [],
   "source": [
    "import pandas as pd\n",
    "import numpy as np\n",
    "import  matplotlib.pyplot as plt"
   ]
  },
  {
   "cell_type": "markdown",
   "metadata": {},
   "source": [
    "# Consumer & Visitor Insights For Neighborhoods数据预处理"
   ]
  },
  {
   "cell_type": "code",
   "execution_count": 153,
   "metadata": {},
   "outputs": [],
   "source": [
    "data=pd.read_csv(\"../datamining_dataset/cbg_patterns.csv\")"
   ]
  },
  {
   "cell_type": "code",
   "execution_count": 154,
   "metadata": {
    "scrolled": true
   },
   "outputs": [
    {
     "data": {
      "text/html": [
       "<div>\n",
       "<style scoped>\n",
       "    .dataframe tbody tr th:only-of-type {\n",
       "        vertical-align: middle;\n",
       "    }\n",
       "\n",
       "    .dataframe tbody tr th {\n",
       "        vertical-align: top;\n",
       "    }\n",
       "\n",
       "    .dataframe thead th {\n",
       "        text-align: right;\n",
       "    }\n",
       "</style>\n",
       "<table border=\"1\" class=\"dataframe\">\n",
       "  <thead>\n",
       "    <tr style=\"text-align: right;\">\n",
       "      <th></th>\n",
       "      <th>census_block_group</th>\n",
       "      <th>date_range_start</th>\n",
       "      <th>date_range_end</th>\n",
       "      <th>raw_visit_count</th>\n",
       "      <th>raw_visitor_count</th>\n",
       "      <th>visitor_home_cbgs</th>\n",
       "      <th>visitor_work_cbgs</th>\n",
       "      <th>distance_from_home</th>\n",
       "      <th>related_same_day_brand</th>\n",
       "      <th>related_same_month_brand</th>\n",
       "      <th>top_brands</th>\n",
       "      <th>popularity_by_hour</th>\n",
       "      <th>popularity_by_day</th>\n",
       "    </tr>\n",
       "  </thead>\n",
       "  <tbody>\n",
       "    <tr>\n",
       "      <th>0</th>\n",
       "      <td>1.005951e+10</td>\n",
       "      <td>1538352000</td>\n",
       "      <td>1541030400</td>\n",
       "      <td>75122.0</td>\n",
       "      <td>18314.0</td>\n",
       "      <td>{\"010059501003\":127,\"010059509001\":111,\"010059...</td>\n",
       "      <td>{\"010059501003\":109,\"010810407002\":62,\"0108104...</td>\n",
       "      <td>194724.0</td>\n",
       "      <td>[\"Chick-fil-A\",\"mcdonalds\",\"Marathon Petroleum...</td>\n",
       "      <td>[\"walmart\",\"mcdonalds\",\"Dollar General\",\"Chick...</td>\n",
       "      <td>[\"CrossFit\",\"Health Mart\",\"Coldwell Banker\"]</td>\n",
       "      <td>[2617,2457,2403,2519,2646,3007,3886,7566,5508,...</td>\n",
       "      <td>{\"Monday\":12000,\"Tuesday\":12224,\"Wednesday\":10...</td>\n",
       "    </tr>\n",
       "    <tr>\n",
       "      <th>1</th>\n",
       "      <td>1.009051e+10</td>\n",
       "      <td>1538352000</td>\n",
       "      <td>1541030400</td>\n",
       "      <td>95649.0</td>\n",
       "      <td>38942.0</td>\n",
       "      <td>{\"010730113021\":210,\"010090506022\":205,\"010090...</td>\n",
       "      <td>{\"010890111001\":271,\"010730045001\":269,\"010439...</td>\n",
       "      <td>120587.0</td>\n",
       "      <td>[\"Shell Oil\",\"mcdonalds\",\"Chick-fil-A\",\"Chevron\"]</td>\n",
       "      <td>[\"walmart\",\"mcdonalds\",\"Shell Oil\",\"Chick-fil-...</td>\n",
       "      <td>[]</td>\n",
       "      <td>[6556,6325,6222,6355,6586,7350,8568,8099,7378,...</td>\n",
       "      <td>{\"Monday\":12125,\"Tuesday\":12984,\"Wednesday\":12...</td>\n",
       "    </tr>\n",
       "    <tr>\n",
       "      <th>2</th>\n",
       "      <td>1.047957e+10</td>\n",
       "      <td>1538352000</td>\n",
       "      <td>1541030400</td>\n",
       "      <td>14009.0</td>\n",
       "      <td>3039.0</td>\n",
       "      <td>{\"010479567011\":67,\"010479567021\":60}</td>\n",
       "      <td>{\"010479567021\":52}</td>\n",
       "      <td>67774.0</td>\n",
       "      <td>[\"Dollar General\"]</td>\n",
       "      <td>[\"walmart\",\"Dollar General\",\"mcdonalds\",\"Chevr...</td>\n",
       "      <td>[\"Dollar General\"]</td>\n",
       "      <td>[807,790,796,786,851,951,1134,1797,1355,1241,1...</td>\n",
       "      <td>{\"Monday\":2314,\"Tuesday\":2340,\"Wednesday\":2195...</td>\n",
       "    </tr>\n",
       "    <tr>\n",
       "      <th>3</th>\n",
       "      <td>1.069040e+10</td>\n",
       "      <td>1538352000</td>\n",
       "      <td>1541030400</td>\n",
       "      <td>128169.0</td>\n",
       "      <td>25418.0</td>\n",
       "      <td>{\"010690402013\":370,\"010690402011\":322,\"010690...</td>\n",
       "      <td>{\"010690402024\":313,\"010690415004\":203,\"010450...</td>\n",
       "      <td>42684.0</td>\n",
       "      <td>[\"Chick-fil-A\",\"Sam's Club\",\"Dollar General\",\"...</td>\n",
       "      <td>[\"walmart\",\"Dollar General\",\"mcdonalds\",\"Marat...</td>\n",
       "      <td>[\"Chick-fil-A\",\"Sam's Club\",\"Olive Garden\",\"mc...</td>\n",
       "      <td>[2121,1828,1784,1704,1861,2373,3730,7497,7093,...</td>\n",
       "      <td>{\"Monday\":21141,\"Tuesday\":21143,\"Wednesday\":17...</td>\n",
       "    </tr>\n",
       "    <tr>\n",
       "      <th>4</th>\n",
       "      <td>1.073011e+10</td>\n",
       "      <td>1538352000</td>\n",
       "      <td>1541030400</td>\n",
       "      <td>51453.0</td>\n",
       "      <td>9499.0</td>\n",
       "      <td>{\"010090507001\":183,\"010730113021\":167,\"010730...</td>\n",
       "      <td>{\"010730045001\":140,\"010730027001\":123,\"010730...</td>\n",
       "      <td>18878.0</td>\n",
       "      <td>[\"Chevron\",\"Daylight Donuts\",\"walmart\"]</td>\n",
       "      <td>[\"walmart\",\"Chevron\",\"Dollar General\",\"Shell O...</td>\n",
       "      <td>[\"Chevron\",\"CrossFit\"]</td>\n",
       "      <td>[3804,3716,3686,3672,3735,4115,4855,5946,4526,...</td>\n",
       "      <td>{\"Monday\":8402,\"Tuesday\":8414,\"Wednesday\":8550...</td>\n",
       "    </tr>\n",
       "  </tbody>\n",
       "</table>\n",
       "</div>"
      ],
      "text/plain": [
       "   census_block_group  date_range_start  date_range_end  raw_visit_count  \\\n",
       "0        1.005951e+10        1538352000      1541030400          75122.0   \n",
       "1        1.009051e+10        1538352000      1541030400          95649.0   \n",
       "2        1.047957e+10        1538352000      1541030400          14009.0   \n",
       "3        1.069040e+10        1538352000      1541030400         128169.0   \n",
       "4        1.073011e+10        1538352000      1541030400          51453.0   \n",
       "\n",
       "   raw_visitor_count                                  visitor_home_cbgs  \\\n",
       "0            18314.0  {\"010059501003\":127,\"010059509001\":111,\"010059...   \n",
       "1            38942.0  {\"010730113021\":210,\"010090506022\":205,\"010090...   \n",
       "2             3039.0              {\"010479567011\":67,\"010479567021\":60}   \n",
       "3            25418.0  {\"010690402013\":370,\"010690402011\":322,\"010690...   \n",
       "4             9499.0  {\"010090507001\":183,\"010730113021\":167,\"010730...   \n",
       "\n",
       "                                   visitor_work_cbgs  distance_from_home  \\\n",
       "0  {\"010059501003\":109,\"010810407002\":62,\"0108104...            194724.0   \n",
       "1  {\"010890111001\":271,\"010730045001\":269,\"010439...            120587.0   \n",
       "2                                {\"010479567021\":52}             67774.0   \n",
       "3  {\"010690402024\":313,\"010690415004\":203,\"010450...             42684.0   \n",
       "4  {\"010730045001\":140,\"010730027001\":123,\"010730...             18878.0   \n",
       "\n",
       "                              related_same_day_brand  \\\n",
       "0  [\"Chick-fil-A\",\"mcdonalds\",\"Marathon Petroleum...   \n",
       "1  [\"Shell Oil\",\"mcdonalds\",\"Chick-fil-A\",\"Chevron\"]   \n",
       "2                                 [\"Dollar General\"]   \n",
       "3  [\"Chick-fil-A\",\"Sam's Club\",\"Dollar General\",\"...   \n",
       "4            [\"Chevron\",\"Daylight Donuts\",\"walmart\"]   \n",
       "\n",
       "                            related_same_month_brand  \\\n",
       "0  [\"walmart\",\"mcdonalds\",\"Dollar General\",\"Chick...   \n",
       "1  [\"walmart\",\"mcdonalds\",\"Shell Oil\",\"Chick-fil-...   \n",
       "2  [\"walmart\",\"Dollar General\",\"mcdonalds\",\"Chevr...   \n",
       "3  [\"walmart\",\"Dollar General\",\"mcdonalds\",\"Marat...   \n",
       "4  [\"walmart\",\"Chevron\",\"Dollar General\",\"Shell O...   \n",
       "\n",
       "                                          top_brands  \\\n",
       "0       [\"CrossFit\",\"Health Mart\",\"Coldwell Banker\"]   \n",
       "1                                                 []   \n",
       "2                                 [\"Dollar General\"]   \n",
       "3  [\"Chick-fil-A\",\"Sam's Club\",\"Olive Garden\",\"mc...   \n",
       "4                             [\"Chevron\",\"CrossFit\"]   \n",
       "\n",
       "                                  popularity_by_hour  \\\n",
       "0  [2617,2457,2403,2519,2646,3007,3886,7566,5508,...   \n",
       "1  [6556,6325,6222,6355,6586,7350,8568,8099,7378,...   \n",
       "2  [807,790,796,786,851,951,1134,1797,1355,1241,1...   \n",
       "3  [2121,1828,1784,1704,1861,2373,3730,7497,7093,...   \n",
       "4  [3804,3716,3686,3672,3735,4115,4855,5946,4526,...   \n",
       "\n",
       "                                   popularity_by_day  \n",
       "0  {\"Monday\":12000,\"Tuesday\":12224,\"Wednesday\":10...  \n",
       "1  {\"Monday\":12125,\"Tuesday\":12984,\"Wednesday\":12...  \n",
       "2  {\"Monday\":2314,\"Tuesday\":2340,\"Wednesday\":2195...  \n",
       "3  {\"Monday\":21141,\"Tuesday\":21143,\"Wednesday\":17...  \n",
       "4  {\"Monday\":8402,\"Tuesday\":8414,\"Wednesday\":8550...  "
      ]
     },
     "execution_count": 154,
     "metadata": {},
     "output_type": "execute_result"
    }
   ],
   "source": [
    "data.head()"
   ]
  },
  {
   "cell_type": "markdown",
   "metadata": {},
   "source": [
    "人口普查分组(CBG)是美国人口普查局报告数据的最细粒度级别。\n",
    "SafeGraph通过分析大量GPS移动数据，得出了CBG的普及程度或到达CBG的距离。\n",
    "我们还将这些GPS数据与我们的数据集(500万个建筑足迹)结合起来，用于美国的景点(安全图地点)，以确定对商店或餐馆等地点的访问。我们使用这些访问计数来获得消费者的洞察力，例如在CBG访问的顶级品牌(如麦当劳)。"
   ]
  },
  {
   "cell_type": "markdown",
   "metadata": {},
   "source": [
    "census_block_group:人口普查区组唯一的12位FIPS码。请注意，有些cbg有前导零。\n",
    "date_range_start:测量周期的开始时间作为时间戳(UTC秒)。\n",
    "date_range_end:测量周期的结束时间作为时间戳(UTC秒)。\n",
    "raw_visit_count：在日期范围内，我们的小组访问该CBG的次数。\n",
    "raw_visitor_count：在日期范围内，我们的小组访问POI的独立访问人数。\n",
    "visitor_home_cbgs：本列列出访问了列census_block_group(目的地CBG)中的目的地的设备的所有原始主CBG。映射到每个home CBG的数字表示在此期间访问                census_block_group的从这个home CBG观察到的访问者数量。不包括访问census_block_group少于50人的家庭cbg。\n",
    "visitor_work_cbgs：本列列出访问了列census_block_group(目的CBG)中某个目的地的设备的所有工作位置CBG。映射到每个工作CBG的数字表示在此期间访问                census_block_group的使用此工作CBG观察到的访问者数量。访问census_block_group的访客少于50人的工作cbg不包括在内。\n",
    "distance_from_home：从家到CBG的游客(我们已确定其家的游客)的距离中位数(米)。\n",
    "related_same_day_brand：访问CBG的用户在访问CBG的同一天访问的品牌，这些品牌与SafeGraph全国平均水平的客户重叠至少有5%的差异。按实力排序，并以前                 十名品牌为限。\n",
    "related_same_month_brand：访问CBG的客户在访问CBG的同一个月访问的品牌，其中重叠的客户与SafeGraph全国平均水平至少有5%的差异。按实力排序，并以前                  十名品牌为限。\n",
    "top_brands：在此期间访问的顶级品牌列表。仅限于十大品牌。\t\n",
    "popularity_by_hour：\t在当地时间范围内，每天的小时数与每小时的访问量之间的映射。\n",
    "popularity_by_day：在日期范围内，将星期几映射为每天的访问量(当地时间)。"
   ]
  },
  {
   "cell_type": "code",
   "execution_count": 155,
   "metadata": {},
   "outputs": [
    {
     "data": {
      "text/plain": [
       "(array([5.2225e+04, 8.4020e+03, 4.4100e+03, 2.8990e+03, 1.6890e+03,\n",
       "        7.1000e+02, 1.7800e+02, 3.8000e+01, 5.0000e+00, 1.0000e+00]),\n",
       " array([ 1. ,  3.9,  6.8,  9.7, 12.6, 15.5, 18.4, 21.3, 24.2, 27.1, 30. ]),\n",
       " <a list of 10 Patch objects>)"
      ]
     },
     "execution_count": 155,
     "metadata": {},
     "output_type": "execute_result"
    },
    {
     "data": {
      "image/png": "[encoded data removed]",
      "text/plain": [
       "<Figure size 1440x576 with 1 Axes>"
      ]
     },
     "metadata": {},
     "output_type": "display_data"
    }
   ],
   "source": [
    "#统计distance_from_home一列每个可能聚会的频数\n",
    "distance=data.distance_from_home.value_counts()\n",
    "plt.figure(figsize=(20, 8))\n",
    "plt.hist(distance)"
   ]
  },
  {
   "cell_type": "code",
   "execution_count": 156,
   "metadata": {},
   "outputs": [
    {
     "data": {
      "text/plain": [
       "count    2.206290e+05\n",
       "mean     4.793066e+04\n",
       "std      6.252655e+04\n",
       "min      6.000000e+01\n",
       "25%      1.704200e+04\n",
       "50%      3.064000e+04\n",
       "75%      5.667800e+04\n",
       "max      7.179900e+06\n",
       "Name: raw_visit_count, dtype: float64"
      ]
     },
     "execution_count": 156,
     "metadata": {},
     "output_type": "execute_result"
    }
   ],
   "source": [
    "#给出raw_visit_count一列的五数概括\n",
    "data.raw_visit_count.describe()"
   ]
  },
  {
   "cell_type": "code",
   "execution_count": 157,
   "metadata": {},
   "outputs": [
    {
     "name": "stdout",
     "output_type": "stream",
     "text": [
      "census_block_group            1\n",
      "date_range_start              0\n",
      "date_range_end                0\n",
      "raw_visit_count             106\n",
      "raw_visitor_count           106\n",
      "visitor_home_cbgs             0\n",
      "visitor_work_cbgs             0\n",
      "distance_from_home          217\n",
      "related_same_day_brand        0\n",
      "related_same_month_brand      0\n",
      "top_brands                    0\n",
      "popularity_by_hour            0\n",
      "popularity_by_day             0\n",
      "dtype: int64\n"
     ]
    }
   ],
   "source": [
    "print(data.isnull().sum()) #统计每一列缺失值的个数"
   ]
  },
  {
   "cell_type": "code",
   "execution_count": 158,
   "metadata": {},
   "outputs": [
    {
     "data": {
      "text/html": [
       "<div>\n",
       "<style scoped>\n",
       "    .dataframe tbody tr th:only-of-type {\n",
       "        vertical-align: middle;\n",
       "    }\n",
       "\n",
       "    .dataframe tbody tr th {\n",
       "        vertical-align: top;\n",
       "    }\n",
       "\n",
       "    .dataframe thead th {\n",
       "        text-align: right;\n",
       "    }\n",
       "</style>\n",
       "<table border=\"1\" class=\"dataframe\">\n",
       "  <thead>\n",
       "    <tr style=\"text-align: right;\">\n",
       "      <th></th>\n",
       "      <th>census_block_group</th>\n",
       "      <th>date_range_start</th>\n",
       "      <th>date_range_end</th>\n",
       "      <th>raw_visit_count</th>\n",
       "      <th>raw_visitor_count</th>\n",
       "      <th>visitor_home_cbgs</th>\n",
       "      <th>visitor_work_cbgs</th>\n",
       "      <th>distance_from_home</th>\n",
       "      <th>related_same_day_brand</th>\n",
       "      <th>related_same_month_brand</th>\n",
       "      <th>top_brands</th>\n",
       "      <th>popularity_by_hour</th>\n",
       "      <th>popularity_by_day</th>\n",
       "    </tr>\n",
       "  </thead>\n",
       "  <tbody>\n",
       "    <tr>\n",
       "      <th>220734</th>\n",
       "      <td>NaN</td>\n",
       "      <td>1538352000</td>\n",
       "      <td>1541030400</td>\n",
       "      <td>NaN</td>\n",
       "      <td>NaN</td>\n",
       "      <td>{}</td>\n",
       "      <td>{}</td>\n",
       "      <td>NaN</td>\n",
       "      <td>[]</td>\n",
       "      <td>[]</td>\n",
       "      <td>[]</td>\n",
       "      <td>[]</td>\n",
       "      <td>{}</td>\n",
       "    </tr>\n",
       "  </tbody>\n",
       "</table>\n",
       "</div>"
      ],
      "text/plain": [
       "        census_block_group  date_range_start  date_range_end  raw_visit_count  \\\n",
       "220734                 NaN        1538352000      1541030400              NaN   \n",
       "\n",
       "        raw_visitor_count visitor_home_cbgs visitor_work_cbgs  \\\n",
       "220734                NaN                {}                {}   \n",
       "\n",
       "        distance_from_home related_same_day_brand related_same_month_brand  \\\n",
       "220734                 NaN                     []                       []   \n",
       "\n",
       "       top_brands popularity_by_hour popularity_by_day  \n",
       "220734         []                 []                {}  "
      ]
     },
     "execution_count": 158,
     "metadata": {},
     "output_type": "execute_result"
    }
   ],
   "source": [
    "#对于census_block_group缺失的数据，由于census_block_group是人口普查区组唯一的12位FIPS码，无法进行填补，故选择直接将该行数据剔除\n",
    "data[data['census_block_group'].isnull()]  #索引为220734"
   ]
  },
  {
   "cell_type": "code",
   "execution_count": 159,
   "metadata": {},
   "outputs": [],
   "source": [
    "data.drop(220734,inplace=True)#将索引为220734的数据剔除"
   ]
  },
  {
   "cell_type": "code",
   "execution_count": 160,
   "metadata": {},
   "outputs": [],
   "source": [
    "#对于raw_visit_count和raw_visitor_count两列的缺失值，分别使用他们的均值进行填充\n",
    "raw_visit_count_mean=np.ceil( np.mean(data.raw_visit_count) )\n",
    "data.raw_visit_count=data.raw_visit_count.fillna(raw_visit_count_mean)\n",
    "raw_visitor_count_mean=np.ceil( np.mean(data.raw_visitor_count) )\n",
    "data.raw_visitor_count=data.raw_visitor_count.fillna(raw_visitor_count_mean)"
   ]
  },
  {
   "cell_type": "code",
   "execution_count": 161,
   "metadata": {},
   "outputs": [
    {
     "data": {
      "text/plain": [
       "8345.0      30\n",
       "8198.0      27\n",
       "7422.0      27\n",
       "8073.0      27\n",
       "8337.0      25\n",
       "8148.0      25\n",
       "7579.0      24\n",
       "8391.0      24\n",
       "7494.0      24\n",
       "8172.0      24\n",
       "9230.0      23\n",
       "7873.0      23\n",
       "10270.0     23\n",
       "7791.0      23\n",
       "8202.0      23\n",
       "6826.0      23\n",
       "8802.0      23\n",
       "8282.0      23\n",
       "7485.0      23\n",
       "8310.0      23\n",
       "7469.0      23\n",
       "7900.0      23\n",
       "8554.0      22\n",
       "7037.0      22\n",
       "6817.0      22\n",
       "8334.0      22\n",
       "8038.0      22\n",
       "10130.0     22\n",
       "6692.0      22\n",
       "8293.0      22\n",
       "            ..\n",
       "38271.0      1\n",
       "114093.0     1\n",
       "325295.0     1\n",
       "56666.0      1\n",
       "114089.0     1\n",
       "250454.0     1\n",
       "71200.0      1\n",
       "114101.0     1\n",
       "162670.0     1\n",
       "228242.0     1\n",
       "228225.0     1\n",
       "46672.0      1\n",
       "46083.0      1\n",
       "36398.0      1\n",
       "456473.0     1\n",
       "40675.0      1\n",
       "162699.0     1\n",
       "114117.0     1\n",
       "81347.0      1\n",
       "128311.0     1\n",
       "128313.0     1\n",
       "162683.0     1\n",
       "456433.0     1\n",
       "81340.0      1\n",
       "38270.0      1\n",
       "57053.0      1\n",
       "142012.0     1\n",
       "29289.0      1\n",
       "191089.0     1\n",
       "188528.0     1\n",
       "Name: distance_from_home, Length: 70557, dtype: int64"
      ]
     },
     "execution_count": 161,
     "metadata": {},
     "output_type": "execute_result"
    }
   ],
   "source": [
    "#对于distance_from_home一列使用最高频率值来填补缺失值\n",
    "data.distance_from_home.value_counts()"
   ]
  },
  {
   "cell_type": "code",
   "execution_count": 162,
   "metadata": {},
   "outputs": [],
   "source": [
    "data.distance_from_home=data.distance_from_home.fillna(8345.0) #使用最高频率值进行填充"
   ]
  },
  {
   "cell_type": "code",
   "execution_count": 163,
   "metadata": {},
   "outputs": [
    {
     "name": "stdout",
     "output_type": "stream",
     "text": [
      "census_block_group          0\n",
      "date_range_start            0\n",
      "date_range_end              0\n",
      "raw_visit_count             0\n",
      "raw_visitor_count           0\n",
      "visitor_home_cbgs           0\n",
      "visitor_work_cbgs           0\n",
      "distance_from_home          0\n",
      "related_same_day_brand      0\n",
      "related_same_month_brand    0\n",
      "top_brands                  0\n",
      "popularity_by_hour          0\n",
      "popularity_by_day           0\n",
      "dtype: int64\n"
     ]
    }
   ],
   "source": [
    "#至此所有缺失值填补完毕\n",
    "print(data.isnull().sum())"
   ]
  },
  {
   "cell_type": "code",
   "execution_count": 164,
   "metadata": {},
   "outputs": [
    {
     "data": {
      "text/plain": [
       "{'whiskers': [<matplotlib.lines.Line2D at 0x1e9f0660898>,\n",
       "  <matplotlib.lines.Line2D at 0x1e9f0660dd8>],\n",
       " 'caps': [<matplotlib.lines.Line2D at 0x1e9f066a278>,\n",
       "  <matplotlib.lines.Line2D at 0x1e9f066a6d8>],\n",
       " 'boxes': [<matplotlib.lines.Line2D at 0x1e9f0660748>],\n",
       " 'medians': [<matplotlib.lines.Line2D at 0x1e9f066ab38>],\n",
       " 'fliers': [<matplotlib.lines.Line2D at 0x1e9f066af98>],\n",
       " 'means': []}"
      ]
     },
     "execution_count": 164,
     "metadata": {},
     "output_type": "execute_result"
    },
    {
     "data": {
      "image/png": "[encoded data removed]",
      "text/plain": [
       "<Figure size 432x288 with 1 Axes>"
      ]
     },
     "metadata": {},
     "output_type": "display_data"
    }
   ],
   "source": [
    "#绘制盒图\n",
    "plt.boxplot(data.raw_visit_count)"
   ]
  },
  {
   "cell_type": "code",
   "execution_count": 165,
   "metadata": {},
   "outputs": [
    {
     "data": {
      "text/plain": [
       "(array([ 3972.,  4178., 25359.,  3532.,  3159., 11892.,  5533.,  1836.,\n",
       "        14505.,  4981.,  6756.,  4359.,  6434., 11520.,  6670.,  2475.,\n",
       "         2758.,  7769., 21618.,  9810.,  5599.,  9740.,  3874.,  4779.,\n",
       "        17501.,  2176.,  3678.,  6375.,  4899.,     0.,    41.,     0.,\n",
       "            0.,   218.,     0.,    55.,  2594.,     0.,     0.,    89.]),\n",
       " array([1.00102010e+10, 2.92676935e+10, 4.85251860e+10, 6.77826784e+10,\n",
       "        8.70401709e+10, 1.06297663e+11, 1.25555156e+11, 1.44812648e+11,\n",
       "        1.64070141e+11, 1.83327633e+11, 2.02585126e+11, 2.21842618e+11,\n",
       "        2.41100111e+11, 2.60357603e+11, 2.79615096e+11, 2.98872588e+11,\n",
       "        3.18130081e+11, 3.37387573e+11, 3.56645066e+11, 3.75902558e+11,\n",
       "        3.95160051e+11, 4.14417543e+11, 4.33675035e+11, 4.52932528e+11,\n",
       "        4.72190020e+11, 4.91447513e+11, 5.10705005e+11, 5.29962498e+11,\n",
       "        5.49219990e+11, 5.68477483e+11, 5.87734975e+11, 6.06992468e+11,\n",
       "        6.26249960e+11, 6.45507453e+11, 6.64764945e+11, 6.84022438e+11,\n",
       "        7.03279930e+11, 7.22537423e+11, 7.41794915e+11, 7.61052408e+11,\n",
       "        7.80309900e+11]),\n",
       " <a list of 40 Patch objects>)"
      ]
     },
     "execution_count": 165,
     "metadata": {},
     "output_type": "execute_result"
    },
    {
     "data": {
      "image/png": "[encoded data removed]",
      "text/plain": [
       "<Figure size 432x288 with 1 Axes>"
      ]
     },
     "metadata": {},
     "output_type": "display_data"
    }
   ],
   "source": [
    "#绘制直方图\n",
    "plt.hist(data.census_block_group, bins=40, facecolor=\"blue\", edgecolor=\"black\", alpha=0.7)"
   ]
  },
  {
   "cell_type": "markdown",
   "metadata": {},
   "source": [
    "# wine-reviews数据预处理"
   ]
  },
  {
   "cell_type": "code",
   "execution_count": 166,
   "metadata": {},
   "outputs": [],
   "source": [
    "data1=pd.read_csv(\"../datamining_dataset/winemag-data_first150k.csv\")\n",
    "data2=pd.read_csv(\"../datamining_dataset/winemag-data-130k-v2.csv\")"
   ]
  },
  {
   "cell_type": "code",
   "execution_count": 167,
   "metadata": {},
   "outputs": [
    {
     "data": {
      "text/html": [
       "<div>\n",
       "<style scoped>\n",
       "    .dataframe tbody tr th:only-of-type {\n",
       "        vertical-align: middle;\n",
       "    }\n",
       "\n",
       "    .dataframe tbody tr th {\n",
       "        vertical-align: top;\n",
       "    }\n",
       "\n",
       "    .dataframe thead th {\n",
       "        text-align: right;\n",
       "    }\n",
       "</style>\n",
       "<table border=\"1\" class=\"dataframe\">\n",
       "  <thead>\n",
       "    <tr style=\"text-align: right;\">\n",
       "      <th></th>\n",
       "      <th>Unnamed: 0</th>\n",
       "      <th>country</th>\n",
       "      <th>description</th>\n",
       "      <th>designation</th>\n",
       "      <th>points</th>\n",
       "      <th>price</th>\n",
       "      <th>province</th>\n",
       "      <th>region_1</th>\n",
       "      <th>region_2</th>\n",
       "      <th>variety</th>\n",
       "      <th>winery</th>\n",
       "    </tr>\n",
       "  </thead>\n",
       "  <tbody>\n",
       "    <tr>\n",
       "      <th>0</th>\n",
       "      <td>0</td>\n",
       "      <td>US</td>\n",
       "      <td>This tremendous 100% varietal wine hails from ...</td>\n",
       "      <td>Martha's Vineyard</td>\n",
       "      <td>96</td>\n",
       "      <td>235.0</td>\n",
       "      <td>California</td>\n",
       "      <td>Napa Valley</td>\n",
       "      <td>Napa</td>\n",
       "      <td>Cabernet Sauvignon</td>\n",
       "      <td>Heitz</td>\n",
       "    </tr>\n",
       "    <tr>\n",
       "      <th>1</th>\n",
       "      <td>1</td>\n",
       "      <td>Spain</td>\n",
       "      <td>Ripe aromas of fig, blackberry and cassis are ...</td>\n",
       "      <td>Carodorum Selección Especial Reserva</td>\n",
       "      <td>96</td>\n",
       "      <td>110.0</td>\n",
       "      <td>Northern Spain</td>\n",
       "      <td>Toro</td>\n",
       "      <td>NaN</td>\n",
       "      <td>Tinta de Toro</td>\n",
       "      <td>Bodega Carmen Rodríguez</td>\n",
       "    </tr>\n",
       "    <tr>\n",
       "      <th>2</th>\n",
       "      <td>2</td>\n",
       "      <td>US</td>\n",
       "      <td>Mac Watson honors the memory of a wine once ma...</td>\n",
       "      <td>Special Selected Late Harvest</td>\n",
       "      <td>96</td>\n",
       "      <td>90.0</td>\n",
       "      <td>California</td>\n",
       "      <td>Knights Valley</td>\n",
       "      <td>Sonoma</td>\n",
       "      <td>Sauvignon Blanc</td>\n",
       "      <td>Macauley</td>\n",
       "    </tr>\n",
       "    <tr>\n",
       "      <th>3</th>\n",
       "      <td>3</td>\n",
       "      <td>US</td>\n",
       "      <td>This spent 20 months in 30% new French oak, an...</td>\n",
       "      <td>Reserve</td>\n",
       "      <td>96</td>\n",
       "      <td>65.0</td>\n",
       "      <td>Oregon</td>\n",
       "      <td>Willamette Valley</td>\n",
       "      <td>Willamette Valley</td>\n",
       "      <td>Pinot Noir</td>\n",
       "      <td>Ponzi</td>\n",
       "    </tr>\n",
       "    <tr>\n",
       "      <th>4</th>\n",
       "      <td>4</td>\n",
       "      <td>France</td>\n",
       "      <td>This is the top wine from La Bégude, named aft...</td>\n",
       "      <td>La Brûlade</td>\n",
       "      <td>95</td>\n",
       "      <td>66.0</td>\n",
       "      <td>Provence</td>\n",
       "      <td>Bandol</td>\n",
       "      <td>NaN</td>\n",
       "      <td>Provence red blend</td>\n",
       "      <td>Domaine de la Bégude</td>\n",
       "    </tr>\n",
       "  </tbody>\n",
       "</table>\n",
       "</div>"
      ],
      "text/plain": [
       "   Unnamed: 0 country                                        description  \\\n",
       "0           0      US  This tremendous 100% varietal wine hails from ...   \n",
       "1           1   Spain  Ripe aromas of fig, blackberry and cassis are ...   \n",
       "2           2      US  Mac Watson honors the memory of a wine once ma...   \n",
       "3           3      US  This spent 20 months in 30% new French oak, an...   \n",
       "4           4  France  This is the top wine from La Bégude, named aft...   \n",
       "\n",
       "                            designation  points  price        province  \\\n",
       "0                     Martha's Vineyard      96  235.0      California   \n",
       "1  Carodorum Selección Especial Reserva      96  110.0  Northern Spain   \n",
       "2         Special Selected Late Harvest      96   90.0      California   \n",
       "3                               Reserve      96   65.0          Oregon   \n",
       "4                            La Brûlade      95   66.0        Provence   \n",
       "\n",
       "            region_1           region_2             variety  \\\n",
       "0        Napa Valley               Napa  Cabernet Sauvignon   \n",
       "1               Toro                NaN       Tinta de Toro   \n",
       "2     Knights Valley             Sonoma     Sauvignon Blanc   \n",
       "3  Willamette Valley  Willamette Valley          Pinot Noir   \n",
       "4             Bandol                NaN  Provence red blend   \n",
       "\n",
       "                    winery  \n",
       "0                    Heitz  \n",
       "1  Bodega Carmen Rodríguez  \n",
       "2                 Macauley  \n",
       "3                    Ponzi  \n",
       "4     Domaine de la Bégude  "
      ]
     },
     "execution_count": 167,
     "metadata": {},
     "output_type": "execute_result"
    }
   ],
   "source": [
    "data1.head()"
   ]
  },
  {
   "cell_type": "code",
   "execution_count": 168,
   "metadata": {},
   "outputs": [
    {
     "data": {
      "text/html": [
       "<div>\n",
       "<style scoped>\n",
       "    .dataframe tbody tr th:only-of-type {\n",
       "        vertical-align: middle;\n",
       "    }\n",
       "\n",
       "    .dataframe tbody tr th {\n",
       "        vertical-align: top;\n",
       "    }\n",
       "\n",
       "    .dataframe thead th {\n",
       "        text-align: right;\n",
       "    }\n",
       "</style>\n",
       "<table border=\"1\" class=\"dataframe\">\n",
       "  <thead>\n",
       "    <tr style=\"text-align: right;\">\n",
       "      <th></th>\n",
       "      <th>Unnamed: 0</th>\n",
       "      <th>country</th>\n",
       "      <th>description</th>\n",
       "      <th>designation</th>\n",
       "      <th>points</th>\n",
       "      <th>price</th>\n",
       "      <th>province</th>\n",
       "      <th>region_1</th>\n",
       "      <th>region_2</th>\n",
       "      <th>taster_name</th>\n",
       "      <th>taster_twitter_handle</th>\n",
       "      <th>title</th>\n",
       "      <th>variety</th>\n",
       "      <th>winery</th>\n",
       "    </tr>\n",
       "  </thead>\n",
       "  <tbody>\n",
       "    <tr>\n",
       "      <th>0</th>\n",
       "      <td>0</td>\n",
       "      <td>Italy</td>\n",
       "      <td>Aromas include tropical fruit, broom, brimston...</td>\n",
       "      <td>Vulkà Bianco</td>\n",
       "      <td>87</td>\n",
       "      <td>NaN</td>\n",
       "      <td>Sicily &amp; Sardinia</td>\n",
       "      <td>Etna</td>\n",
       "      <td>NaN</td>\n",
       "      <td>Kerin O’Keefe</td>\n",
       "      <td>@kerinokeefe</td>\n",
       "      <td>Nicosia 2013 Vulkà Bianco  (Etna)</td>\n",
       "      <td>White Blend</td>\n",
       "      <td>Nicosia</td>\n",
       "    </tr>\n",
       "    <tr>\n",
       "      <th>1</th>\n",
       "      <td>1</td>\n",
       "      <td>Portugal</td>\n",
       "      <td>This is ripe and fruity, a wine that is smooth...</td>\n",
       "      <td>Avidagos</td>\n",
       "      <td>87</td>\n",
       "      <td>15.0</td>\n",
       "      <td>Douro</td>\n",
       "      <td>NaN</td>\n",
       "      <td>NaN</td>\n",
       "      <td>Roger Voss</td>\n",
       "      <td>@vossroger</td>\n",
       "      <td>Quinta dos Avidagos 2011 Avidagos Red (Douro)</td>\n",
       "      <td>Portuguese Red</td>\n",
       "      <td>Quinta dos Avidagos</td>\n",
       "    </tr>\n",
       "    <tr>\n",
       "      <th>2</th>\n",
       "      <td>2</td>\n",
       "      <td>US</td>\n",
       "      <td>Tart and snappy, the flavors of lime flesh and...</td>\n",
       "      <td>NaN</td>\n",
       "      <td>87</td>\n",
       "      <td>14.0</td>\n",
       "      <td>Oregon</td>\n",
       "      <td>Willamette Valley</td>\n",
       "      <td>Willamette Valley</td>\n",
       "      <td>Paul Gregutt</td>\n",
       "      <td>@paulgwine</td>\n",
       "      <td>Rainstorm 2013 Pinot Gris (Willamette Valley)</td>\n",
       "      <td>Pinot Gris</td>\n",
       "      <td>Rainstorm</td>\n",
       "    </tr>\n",
       "    <tr>\n",
       "      <th>3</th>\n",
       "      <td>3</td>\n",
       "      <td>US</td>\n",
       "      <td>Pineapple rind, lemon pith and orange blossom ...</td>\n",
       "      <td>Reserve Late Harvest</td>\n",
       "      <td>87</td>\n",
       "      <td>13.0</td>\n",
       "      <td>Michigan</td>\n",
       "      <td>Lake Michigan Shore</td>\n",
       "      <td>NaN</td>\n",
       "      <td>Alexander Peartree</td>\n",
       "      <td>NaN</td>\n",
       "      <td>St. Julian 2013 Reserve Late Harvest Riesling ...</td>\n",
       "      <td>Riesling</td>\n",
       "      <td>St. Julian</td>\n",
       "    </tr>\n",
       "    <tr>\n",
       "      <th>4</th>\n",
       "      <td>4</td>\n",
       "      <td>US</td>\n",
       "      <td>Much like the regular bottling from 2012, this...</td>\n",
       "      <td>Vintner's Reserve Wild Child Block</td>\n",
       "      <td>87</td>\n",
       "      <td>65.0</td>\n",
       "      <td>Oregon</td>\n",
       "      <td>Willamette Valley</td>\n",
       "      <td>Willamette Valley</td>\n",
       "      <td>Paul Gregutt</td>\n",
       "      <td>@paulgwine</td>\n",
       "      <td>Sweet Cheeks 2012 Vintner's Reserve Wild Child...</td>\n",
       "      <td>Pinot Noir</td>\n",
       "      <td>Sweet Cheeks</td>\n",
       "    </tr>\n",
       "  </tbody>\n",
       "</table>\n",
       "</div>"
      ],
      "text/plain": [
       "   Unnamed: 0   country                                        description  \\\n",
       "0           0     Italy  Aromas include tropical fruit, broom, brimston...   \n",
       "1           1  Portugal  This is ripe and fruity, a wine that is smooth...   \n",
       "2           2        US  Tart and snappy, the flavors of lime flesh and...   \n",
       "3           3        US  Pineapple rind, lemon pith and orange blossom ...   \n",
       "4           4        US  Much like the regular bottling from 2012, this...   \n",
       "\n",
       "                          designation  points  price           province  \\\n",
       "0                        Vulkà Bianco      87    NaN  Sicily & Sardinia   \n",
       "1                            Avidagos      87   15.0              Douro   \n",
       "2                                 NaN      87   14.0             Oregon   \n",
       "3                Reserve Late Harvest      87   13.0           Michigan   \n",
       "4  Vintner's Reserve Wild Child Block      87   65.0             Oregon   \n",
       "\n",
       "              region_1           region_2         taster_name  \\\n",
       "0                 Etna                NaN       Kerin O’Keefe   \n",
       "1                  NaN                NaN          Roger Voss   \n",
       "2    Willamette Valley  Willamette Valley        Paul Gregutt   \n",
       "3  Lake Michigan Shore                NaN  Alexander Peartree   \n",
       "4    Willamette Valley  Willamette Valley        Paul Gregutt   \n",
       "\n",
       "  taster_twitter_handle                                              title  \\\n",
       "0          @kerinokeefe                  Nicosia 2013 Vulkà Bianco  (Etna)   \n",
       "1            @vossroger      Quinta dos Avidagos 2011 Avidagos Red (Douro)   \n",
       "2           @paulgwine       Rainstorm 2013 Pinot Gris (Willamette Valley)   \n",
       "3                   NaN  St. Julian 2013 Reserve Late Harvest Riesling ...   \n",
       "4           @paulgwine   Sweet Cheeks 2012 Vintner's Reserve Wild Child...   \n",
       "\n",
       "          variety               winery  \n",
       "0     White Blend              Nicosia  \n",
       "1  Portuguese Red  Quinta dos Avidagos  \n",
       "2      Pinot Gris            Rainstorm  \n",
       "3        Riesling           St. Julian  \n",
       "4      Pinot Noir         Sweet Cheeks  "
      ]
     },
     "execution_count": 168,
     "metadata": {},
     "output_type": "execute_result"
    }
   ],
   "source": [
    "data2.head()"
   ]
  },
  {
   "cell_type": "markdown",
   "metadata": {},
   "source": [
    "由于两个数据集的列不完全相同，只选择公有的、对数据预处理有用的列，并将两个数据集拼接为一个数据集\n",
    "具体选择的列为：country(国家)、designation(名称)、points(得分)、price(价格)、variety(种类)、winery(酿酒厂)"
   ]
  },
  {
   "cell_type": "code",
   "execution_count": 169,
   "metadata": {},
   "outputs": [],
   "source": [
    "data_wine1=data1[['country','designation','points','price','variety','winery']]\n",
    "data_wine2=data2[['country','designation','points','price','variety','winery']]"
   ]
  },
  {
   "cell_type": "code",
   "execution_count": 170,
   "metadata": {},
   "outputs": [
    {
     "data": {
      "text/plain": [
       "(150930, 6)"
      ]
     },
     "execution_count": 170,
     "metadata": {},
     "output_type": "execute_result"
    }
   ],
   "source": [
    "data_wine1.shape"
   ]
  },
  {
   "cell_type": "code",
   "execution_count": 171,
   "metadata": {},
   "outputs": [
    {
     "data": {
      "text/plain": [
       "(129971, 6)"
      ]
     },
     "execution_count": 171,
     "metadata": {},
     "output_type": "execute_result"
    }
   ],
   "source": [
    "data_wine2.shape"
   ]
  },
  {
   "cell_type": "code",
   "execution_count": 172,
   "metadata": {},
   "outputs": [],
   "source": [
    "#对两个数据集进行拼接，我们发现只有points和price两列是数值型数据\n",
    "data_wine=pd.concat([data_wine1,data_wine2],axis = 0,ignore_index=True)"
   ]
  },
  {
   "cell_type": "code",
   "execution_count": 173,
   "metadata": {},
   "outputs": [
    {
     "data": {
      "text/html": [
       "<div>\n",
       "<style scoped>\n",
       "    .dataframe tbody tr th:only-of-type {\n",
       "        vertical-align: middle;\n",
       "    }\n",
       "\n",
       "    .dataframe tbody tr th {\n",
       "        vertical-align: top;\n",
       "    }\n",
       "\n",
       "    .dataframe thead th {\n",
       "        text-align: right;\n",
       "    }\n",
       "</style>\n",
       "<table border=\"1\" class=\"dataframe\">\n",
       "  <thead>\n",
       "    <tr style=\"text-align: right;\">\n",
       "      <th></th>\n",
       "      <th>country</th>\n",
       "      <th>designation</th>\n",
       "      <th>points</th>\n",
       "      <th>price</th>\n",
       "      <th>variety</th>\n",
       "      <th>winery</th>\n",
       "    </tr>\n",
       "  </thead>\n",
       "  <tbody>\n",
       "    <tr>\n",
       "      <th>0</th>\n",
       "      <td>US</td>\n",
       "      <td>Martha's Vineyard</td>\n",
       "      <td>96</td>\n",
       "      <td>235.0</td>\n",
       "      <td>Cabernet Sauvignon</td>\n",
       "      <td>Heitz</td>\n",
       "    </tr>\n",
       "    <tr>\n",
       "      <th>1</th>\n",
       "      <td>Spain</td>\n",
       "      <td>Carodorum Selección Especial Reserva</td>\n",
       "      <td>96</td>\n",
       "      <td>110.0</td>\n",
       "      <td>Tinta de Toro</td>\n",
       "      <td>Bodega Carmen Rodríguez</td>\n",
       "    </tr>\n",
       "    <tr>\n",
       "      <th>2</th>\n",
       "      <td>US</td>\n",
       "      <td>Special Selected Late Harvest</td>\n",
       "      <td>96</td>\n",
       "      <td>90.0</td>\n",
       "      <td>Sauvignon Blanc</td>\n",
       "      <td>Macauley</td>\n",
       "    </tr>\n",
       "    <tr>\n",
       "      <th>3</th>\n",
       "      <td>US</td>\n",
       "      <td>Reserve</td>\n",
       "      <td>96</td>\n",
       "      <td>65.0</td>\n",
       "      <td>Pinot Noir</td>\n",
       "      <td>Ponzi</td>\n",
       "    </tr>\n",
       "    <tr>\n",
       "      <th>4</th>\n",
       "      <td>France</td>\n",
       "      <td>La Brûlade</td>\n",
       "      <td>95</td>\n",
       "      <td>66.0</td>\n",
       "      <td>Provence red blend</td>\n",
       "      <td>Domaine de la Bégude</td>\n",
       "    </tr>\n",
       "  </tbody>\n",
       "</table>\n",
       "</div>"
      ],
      "text/plain": [
       "  country                           designation  points  price  \\\n",
       "0      US                     Martha's Vineyard      96  235.0   \n",
       "1   Spain  Carodorum Selección Especial Reserva      96  110.0   \n",
       "2      US         Special Selected Late Harvest      96   90.0   \n",
       "3      US                               Reserve      96   65.0   \n",
       "4  France                            La Brûlade      95   66.0   \n",
       "\n",
       "              variety                   winery  \n",
       "0  Cabernet Sauvignon                    Heitz  \n",
       "1       Tinta de Toro  Bodega Carmen Rodríguez  \n",
       "2     Sauvignon Blanc                 Macauley  \n",
       "3          Pinot Noir                    Ponzi  \n",
       "4  Provence red blend     Domaine de la Bégude  "
      ]
     },
     "execution_count": 173,
     "metadata": {},
     "output_type": "execute_result"
    }
   ],
   "source": [
    "data_wine.head()"
   ]
  },
  {
   "cell_type": "code",
   "execution_count": 174,
   "metadata": {},
   "outputs": [
    {
     "data": {
      "text/plain": [
       "Text(0,0.5,'number')"
      ]
     },
     "execution_count": 174,
     "metadata": {},
     "output_type": "execute_result"
    },
    {
     "data": {
      "image/png": "[encoded data removed]",
      "text/plain": [
       "<Figure size 1440x576 with 1 Axes>"
      ]
     },
     "metadata": {},
     "output_type": "display_data"
    }
   ],
   "source": [
    "##统计聚会的频数的前15位\n",
    "country_top15=data_wine.country.value_counts()[0:15]\n",
    "plt.figure(figsize=(20, 8))\n",
    "plt.bar(country_top15.index,country_top15)\n",
    "plt.xlabel('country')\n",
    "plt.ylabel('number')"
   ]
  },
  {
   "cell_type": "code",
   "execution_count": 175,
   "metadata": {},
   "outputs": [
    {
     "data": {
      "text/plain": [
       "count    258210.000000\n",
       "mean         34.177162\n",
       "std          38.611708\n",
       "min           4.000000\n",
       "25%          16.000000\n",
       "50%          25.000000\n",
       "75%          40.000000\n",
       "max        3300.000000\n",
       "Name: price, dtype: float64"
      ]
     },
     "execution_count": 175,
     "metadata": {},
     "output_type": "execute_result"
    }
   ],
   "source": [
    "#给出price一列的五数概括\n",
    "data_wine.price.describe()"
   ]
  },
  {
   "cell_type": "code",
   "execution_count": 176,
   "metadata": {},
   "outputs": [
    {
     "data": {
      "text/plain": [
       "country           68\n",
       "designation    83200\n",
       "points             0\n",
       "price          22691\n",
       "variety            1\n",
       "winery             0\n",
       "dtype: int64"
      ]
     },
     "execution_count": 176,
     "metadata": {},
     "output_type": "execute_result"
    }
   ],
   "source": [
    "#统计每一列缺失值的个数  由于designation一列缺失的数据比较多，且它对我们要做的数据分析影响不大，故对designation一列的缺失值不做处理\n",
    "data_wine.isnull().sum() "
   ]
  },
  {
   "cell_type": "code",
   "execution_count": 177,
   "metadata": {},
   "outputs": [],
   "source": [
    "#对于列country缺失的数据，选择直接将该行数据剔除\n",
    "data_wine.drop(data_wine[data_wine['country'].isnull()].index ,inplace=True  )"
   ]
  },
  {
   "cell_type": "code",
   "execution_count": 178,
   "metadata": {},
   "outputs": [
    {
     "data": {
      "text/html": [
       "<div>\n",
       "<style scoped>\n",
       "    .dataframe tbody tr th:only-of-type {\n",
       "        vertical-align: middle;\n",
       "    }\n",
       "\n",
       "    .dataframe tbody tr th {\n",
       "        vertical-align: top;\n",
       "    }\n",
       "\n",
       "    .dataframe thead th {\n",
       "        text-align: right;\n",
       "    }\n",
       "</style>\n",
       "<table border=\"1\" class=\"dataframe\">\n",
       "  <thead>\n",
       "    <tr style=\"text-align: right;\">\n",
       "      <th></th>\n",
       "      <th>country</th>\n",
       "      <th>designation</th>\n",
       "      <th>points</th>\n",
       "      <th>price</th>\n",
       "      <th>variety</th>\n",
       "      <th>winery</th>\n",
       "    </tr>\n",
       "  </thead>\n",
       "  <tbody>\n",
       "    <tr>\n",
       "      <th>237839</th>\n",
       "      <td>Chile</td>\n",
       "      <td>NaN</td>\n",
       "      <td>88</td>\n",
       "      <td>17.0</td>\n",
       "      <td>NaN</td>\n",
       "      <td>Carmen</td>\n",
       "    </tr>\n",
       "  </tbody>\n",
       "</table>\n",
       "</div>"
      ],
      "text/plain": [
       "       country designation  points  price variety  winery\n",
       "237839   Chile         NaN      88   17.0     NaN  Carmen"
      ]
     },
     "execution_count": 178,
     "metadata": {},
     "output_type": "execute_result"
    }
   ],
   "source": [
    "#对于列variety缺失的数据，我们使用相同酿酒厂且相同得分且相同价格的数据的variety一列的值进行填充\n",
    "data_wine[data_wine['variety'].isnull()]"
   ]
  },
  {
   "cell_type": "code",
   "execution_count": 179,
   "metadata": {},
   "outputs": [
    {
     "data": {
      "text/html": [
       "<div>\n",
       "<style scoped>\n",
       "    .dataframe tbody tr th:only-of-type {\n",
       "        vertical-align: middle;\n",
       "    }\n",
       "\n",
       "    .dataframe tbody tr th {\n",
       "        vertical-align: top;\n",
       "    }\n",
       "\n",
       "    .dataframe thead th {\n",
       "        text-align: right;\n",
       "    }\n",
       "</style>\n",
       "<table border=\"1\" class=\"dataframe\">\n",
       "  <thead>\n",
       "    <tr style=\"text-align: right;\">\n",
       "      <th></th>\n",
       "      <th>country</th>\n",
       "      <th>designation</th>\n",
       "      <th>points</th>\n",
       "      <th>price</th>\n",
       "      <th>variety</th>\n",
       "      <th>winery</th>\n",
       "    </tr>\n",
       "  </thead>\n",
       "  <tbody>\n",
       "    <tr>\n",
       "      <th>69386</th>\n",
       "      <td>Chile</td>\n",
       "      <td>Reserve</td>\n",
       "      <td>88</td>\n",
       "      <td>17.0</td>\n",
       "      <td>Cabernet Sauvignon</td>\n",
       "      <td>Carmen</td>\n",
       "    </tr>\n",
       "    <tr>\n",
       "      <th>150806</th>\n",
       "      <td>Chile</td>\n",
       "      <td>Reserve</td>\n",
       "      <td>88</td>\n",
       "      <td>17.0</td>\n",
       "      <td>Cabernet Sauvignon</td>\n",
       "      <td>Carmen</td>\n",
       "    </tr>\n",
       "    <tr>\n",
       "      <th>237839</th>\n",
       "      <td>Chile</td>\n",
       "      <td>NaN</td>\n",
       "      <td>88</td>\n",
       "      <td>17.0</td>\n",
       "      <td>NaN</td>\n",
       "      <td>Carmen</td>\n",
       "    </tr>\n",
       "    <tr>\n",
       "      <th>240557</th>\n",
       "      <td>Chile</td>\n",
       "      <td>Reserve</td>\n",
       "      <td>88</td>\n",
       "      <td>17.0</td>\n",
       "      <td>Cabernet Sauvignon</td>\n",
       "      <td>Carmen</td>\n",
       "    </tr>\n",
       "  </tbody>\n",
       "</table>\n",
       "</div>"
      ],
      "text/plain": [
       "       country designation  points  price             variety  winery\n",
       "69386    Chile     Reserve      88   17.0  Cabernet Sauvignon  Carmen\n",
       "150806   Chile     Reserve      88   17.0  Cabernet Sauvignon  Carmen\n",
       "237839   Chile         NaN      88   17.0                 NaN  Carmen\n",
       "240557   Chile     Reserve      88   17.0  Cabernet Sauvignon  Carmen"
      ]
     },
     "execution_count": 179,
     "metadata": {},
     "output_type": "execute_result"
    }
   ],
   "source": [
    "data_temp=data_wine[data_wine['winery']=='Carmen']\n",
    "data_temp=data_temp[data_temp['points']==88]\n",
    "data_temp=data_temp[data_temp['price']==17.0]\n",
    "data_temp"
   ]
  },
  {
   "cell_type": "code",
   "execution_count": 180,
   "metadata": {},
   "outputs": [],
   "source": [
    "#使用Cabernet Sauvignon值进行填充\n",
    "data_wine.loc[237839,'variety']='Cabernet Sauvignon'"
   ]
  },
  {
   "cell_type": "code",
   "execution_count": 181,
   "metadata": {},
   "outputs": [
    {
     "data": {
      "text/html": [
       "<div>\n",
       "<style scoped>\n",
       "    .dataframe tbody tr th:only-of-type {\n",
       "        vertical-align: middle;\n",
       "    }\n",
       "\n",
       "    .dataframe tbody tr th {\n",
       "        vertical-align: top;\n",
       "    }\n",
       "\n",
       "    .dataframe thead th {\n",
       "        text-align: right;\n",
       "    }\n",
       "</style>\n",
       "<table border=\"1\" class=\"dataframe\">\n",
       "  <thead>\n",
       "    <tr style=\"text-align: right;\">\n",
       "      <th></th>\n",
       "      <th>country</th>\n",
       "      <th>designation</th>\n",
       "      <th>points</th>\n",
       "      <th>price</th>\n",
       "      <th>variety</th>\n",
       "      <th>winery</th>\n",
       "    </tr>\n",
       "  </thead>\n",
       "  <tbody>\n",
       "    <tr>\n",
       "      <th>237839</th>\n",
       "      <td>Chile</td>\n",
       "      <td>NaN</td>\n",
       "      <td>88</td>\n",
       "      <td>17.0</td>\n",
       "      <td>Cabernet Sauvignon</td>\n",
       "      <td>Carmen</td>\n",
       "    </tr>\n",
       "  </tbody>\n",
       "</table>\n",
       "</div>"
      ],
      "text/plain": [
       "       country designation  points  price             variety  winery\n",
       "237839   Chile         NaN      88   17.0  Cabernet Sauvignon  Carmen"
      ]
     },
     "execution_count": 181,
     "metadata": {},
     "output_type": "execute_result"
    }
   ],
   "source": [
    "data_wine[data_wine.index==237839]"
   ]
  },
  {
   "cell_type": "code",
   "execution_count": 182,
   "metadata": {},
   "outputs": [],
   "source": [
    "data_wine_priceIsNan=data_wine[data_wine['price'].isnull()]"
   ]
  },
  {
   "cell_type": "markdown",
   "metadata": {},
   "source": [
    "通过分析数据发现列price的缺失值不能简单通过均值或者高频率值等方法填充，所以考虑将price缺失的这部分数据保存下来并从原数据集中剔除\n",
    "将剔除这部分后的数据可作为训练集，这部分数据可作为测试集，可应用于价格预测的任务中"
   ]
  },
  {
   "cell_type": "code",
   "execution_count": 183,
   "metadata": {},
   "outputs": [],
   "source": [
    "#对于列price缺失的数据，选择直接将该行数据剔除\n",
    "data_wine.drop(data_wine_priceIsNan.index ,inplace=True  )"
   ]
  },
  {
   "cell_type": "code",
   "execution_count": 184,
   "metadata": {},
   "outputs": [
    {
     "data": {
      "text/plain": [
       "country            0\n",
       "designation    77079\n",
       "points             0\n",
       "price              0\n",
       "variety            0\n",
       "winery             0\n",
       "dtype: int64"
      ]
     },
     "execution_count": 184,
     "metadata": {},
     "output_type": "execute_result"
    }
   ],
   "source": [
    "#至此除列designation外所有缺失值处理完毕\n",
    "data_wine.isnull().sum()"
   ]
  },
  {
   "cell_type": "code",
   "execution_count": 185,
   "metadata": {},
   "outputs": [
    {
     "data": {
      "text/plain": [
       "{'whiskers': [<matplotlib.lines.Line2D at 0x1e9db560e80>,\n",
       "  <matplotlib.lines.Line2D at 0x1e9db5693c8>],\n",
       " 'caps': [<matplotlib.lines.Line2D at 0x1e9db569828>,\n",
       "  <matplotlib.lines.Line2D at 0x1e9db569c88>],\n",
       " 'boxes': [<matplotlib.lines.Line2D at 0x1e9db560d30>],\n",
       " 'medians': [<matplotlib.lines.Line2D at 0x1e9db572128>],\n",
       " 'fliers': [<matplotlib.lines.Line2D at 0x1e9db572588>],\n",
       " 'means': []}"
      ]
     },
     "execution_count": 185,
     "metadata": {},
     "output_type": "execute_result"
    },
    {
     "data": {
      "image/png": "[encoded data removed]",
      "text/plain": [
       "<Figure size 432x288 with 1 Axes>"
      ]
     },
     "metadata": {},
     "output_type": "display_data"
    }
   ],
   "source": [
    "#对price列绘制盒图\n",
    "plt.boxplot(data_wine.price)"
   ]
  },
  {
   "cell_type": "code",
   "execution_count": 186,
   "metadata": {},
   "outputs": [
    {
     "data": {
      "text/plain": [
       "(array([ 1278.,     0.,  2146.,     0.,  5705.,     0.,  8693.,     0.,\n",
       "        16217.,     0., 20505.,     0., 26091.,     0., 34786.,     0.,\n",
       "        32039.,     0., 22863.,     0., 28756.,     0., 19770.,     0.,\n",
       "        16984.,     0., 11132.,     0.,  6456.,     0.,  2872.,     0.,\n",
       "         1049.,     0.,   510.,     0.,   183.,     0.,    68.,    43.]),\n",
       " array([ 80. ,  80.5,  81. ,  81.5,  82. ,  82.5,  83. ,  83.5,  84. ,\n",
       "         84.5,  85. ,  85.5,  86. ,  86.5,  87. ,  87.5,  88. ,  88.5,\n",
       "         89. ,  89.5,  90. ,  90.5,  91. ,  91.5,  92. ,  92.5,  93. ,\n",
       "         93.5,  94. ,  94.5,  95. ,  95.5,  96. ,  96.5,  97. ,  97.5,\n",
       "         98. ,  98.5,  99. ,  99.5, 100. ]),\n",
       " <a list of 40 Patch objects>)"
      ]
     },
     "execution_count": 186,
     "metadata": {},
     "output_type": "execute_result"
    },
    {
     "data": {
      "image/png": "[encoded data removed]",
      "text/plain": [
       "<Figure size 432x288 with 1 Axes>"
      ]
     },
     "metadata": {},
     "output_type": "display_data"
    }
   ],
   "source": [
    "#对points列绘制直方图\n",
    "plt.hist(data_wine.points, bins=40, facecolor=\"blue\", edgecolor=\"black\", alpha=0.7)"
   ]
  }
 ],
 "metadata": {
  "kernelspec": {
   "display_name": "Python 3",
   "language": "python",
   "name": "python3"
  },
  "language_info": {
   "codemirror_mode": {
    "name": "ipython",
    "version": 3
   },
   "file_extension": ".py",
   "mimetype": "text/x-python",
   "name": "python",
   "nbconvert_exporter": "python",
   "pygments_lexer": "ipython3",
   "version": "3.6.5"
  }
 },
 "nbformat": 4,
 "nbformat_minor": 2
}
